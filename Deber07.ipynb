{
 "cells": [
  {
   "cell_type": "markdown",
   "metadata": {},
   "source": [
    "# Tarea 6 Serie de Taylor y Polinomio de Lagrange\n",
    "* Mijael Molina \n",
    "\n",
    "## Conjunto de ejercicio \n",
    " Diríjase al pseudocódigo del spline cúbico con frontera natural provisto en clase, en base a ese pseudocódigo complete la siguiente función:<br><br>: \n",
    "\n",
    "* Repositorio: https://github.com/mijael450/Deber07.git"
   ]
  },
  {
   "cell_type": "code",
   "execution_count": 2,
   "metadata": {},
   "outputs": [],
   "source": [
    "import sympy as sym\n",
    "from IPython.display import display\n",
    "\n",
    "# ###################################################################\n",
    "def cubic_spline(xs: list[float], ys: list[float]) -> list[sym.Symbol]:\n",
    "    \"\"\"\n",
    "    Cubic spline interpolation ``S``. Every two points are interpolated by a cubic polynomial\n",
    "    ``S_j`` of the form ``S_j(x) = a_j + b_j(x - x_j) + c_j(x - x_j)^2 + d_j(x - x_j)^3.``\n",
    "\n",
    "    xs must be different but not necessarily ordered nor equally spaced.\n",
    "\n",
    "    ## Parameters\n",
    "    - xs, ys: points to be interpolated\n",
    "\n",
    "    ## Return\n",
    "    - List of symbolic expressions for the cubic spline interpolation.\n",
    "    \"\"\"\n",
    "    \n",
    "    points = sorted(zip(xs, ys), key=lambda x: x[0])  # sort points by x\n",
    "\n",
    "    xs = [x for x, _ in points]\n",
    "    ys = [y for _, y in points]\n",
    "\n",
    "    n = len(points) - 1  # number of splines\n",
    "\n",
    "    h = [xs[i + 1] - xs[i] for i in range(n)]  # distances between contiguous xs\n",
    "\n",
    "    # Calculate alpha values\n",
    "    alpha = [0] * (n)  # initialize alpha\n",
    "    for i in range(1, n):\n",
    "        alpha[i] = (3 / h[i] * (ys[i + 1] - ys[i])) - (3 / h[i - 1] * (ys[i] - ys[i - 1]))\n",
    "\n",
    "    # Initialize l, u, z arrays\n",
    "    l = [1] + [0] * n\n",
    "    u = [0] * n\n",
    "    z = [0] * (n + 1)\n",
    "\n",
    "    # Forward substitution\n",
    "    for i in range(1, n):\n",
    "        l[i] = 2 * (xs[i + 1] - xs[i - 1]) - h[i - 1] * u[i - 1]\n",
    "        u[i] = h[i] / l[i]\n",
    "        z[i] = (alpha[i] - h[i - 1] * z[i - 1]) / l[i]\n",
    "\n",
    "    # Boundary conditions\n",
    "    l[n] = 1\n",
    "    z[n] = 0\n",
    "    c = [0] * (n + 1)\n",
    "\n",
    "    # Backward substitution\n",
    "    x = sym.Symbol(\"x\")\n",
    "    splines = []\n",
    "    for j in range(n - 1, -1, -1):\n",
    "        c[j] = z[j] - u[j] * c[j + 1]\n",
    "        b = (ys[j + 1] - ys[j]) / h[j] - h[j] * (c[j + 1] + 2 * c[j]) / 3\n",
    "        d = (c[j + 1] - c[j]) / (3 * h[j])\n",
    "        a = ys[j]\n",
    "        # Define the spline polynomial\n",
    "        S = a + b * (x - xs[j]) + c[j] * (x - xs[j])**2 + d * (x - xs[j])**3\n",
    "        splines.append(S)\n",
    "    \n",
    "    splines.reverse()\n",
    "    return splines \n"
   ]
  },
  {
   "cell_type": "markdown",
   "metadata": {},
   "source": [
    "4. Usando la función anterior, encuentre el spline cúbico para:\n"
   ]
  },
  {
   "cell_type": "code",
   "execution_count": 3,
   "metadata": {},
   "outputs": [
    {
     "name": "stdout",
     "output_type": "stream",
     "text": [
      "Splines cúbicos originales:\n"
     ]
    },
    {
     "data": {
      "text/latex": [
       "$\\displaystyle 0.75 x + 0.25 \\left(x - 1\\right)^{3} + 1.25$"
      ],
      "text/plain": [
       "0.75*x + 0.25*(x - 1)**3 + 1.25"
      ]
     },
     "metadata": {},
     "output_type": "display_data"
    },
    {
     "data": {
      "text/latex": [
       "$\\displaystyle 1.5 x - 0.25 \\left(x - 2\\right)^{3} + 0.75 \\left(x - 2\\right)^{2}$"
      ],
      "text/plain": [
       "1.5*x - 0.25*(x - 2)**3 + 0.75*(x - 2)**2"
      ]
     },
     "metadata": {},
     "output_type": "display_data"
    },
    {
     "name": "stdout",
     "output_type": "stream",
     "text": [
      "________________________________________\n",
      "Splines cúbicos expandidos:\n"
     ]
    },
    {
     "data": {
      "text/latex": [
       "$\\displaystyle 0.25 x^{3} - 0.75 x^{2} + 1.5 x + 1.0$"
      ],
      "text/plain": [
       "0.25*x**3 - 0.75*x**2 + 1.5*x + 1.0"
      ]
     },
     "metadata": {},
     "output_type": "display_data"
    },
    {
     "data": {
      "text/latex": [
       "$\\displaystyle - 0.25 x^{3} + 2.25 x^{2} - 4.5 x + 5.0$"
      ],
      "text/plain": [
       "-0.25*x**3 + 2.25*x**2 - 4.5*x + 5.0"
      ]
     },
     "metadata": {},
     "output_type": "display_data"
    }
   ],
   "source": [
    "# Valores proporcionados\n",
    "xs = [1, 2, 3]\n",
    "ys = [2, 3, 5]\n",
    "\n",
    "# Calcular el spline cúbico\n",
    "splines = cubic_spline(xs=xs, ys=ys)\n",
    "\n",
    "# Mostrar los resultados originales de los splines\n",
    "print(\"Splines cúbicos originales:\")\n",
    "_ = [display(s) for s in splines]\n",
    "\n",
    "print(\"________________________________________\")\n",
    "\n",
    "# Mostrar los resultados expandidos de los splines\n",
    "print(\"Splines cúbicos expandidos:\")\n",
    "_ = [display(s.expand()) for s in splines]"
   ]
  },
  {
   "cell_type": "markdown",
   "metadata": {},
   "source": []
  }
 ],
 "metadata": {
  "kernelspec": {
   "display_name": "Python 3",
   "language": "python",
   "name": "python3"
  },
  "language_info": {
   "codemirror_mode": {
    "name": "ipython",
    "version": 3
   },
   "file_extension": ".py",
   "mimetype": "text/x-python",
   "name": "python",
   "nbconvert_exporter": "python",
   "pygments_lexer": "ipython3",
   "version": "3.12.5"
  }
 },
 "nbformat": 4,
 "nbformat_minor": 2
}
